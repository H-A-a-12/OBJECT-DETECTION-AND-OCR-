{
 "cells": [
  {
   "cell_type": "code",
   "execution_count": 1,
   "metadata": {},
   "outputs": [],
   "source": [
    "import cv2\n",
    "from darkflow.net.build import TFNet\n",
    "import matplotlib.pyplot as plt\n",
    "import pytesseract as tess\n",
    "import os\n",
    "tess.pytesseract.tesseract_cmd = r'C:\\Program Files\\Tesseract-OCR\\tesseract.exe'"
   ]
  },
  {
   "cell_type": "code",
   "execution_count": 2,
   "metadata": {},
   "outputs": [
    {
     "name": "stderr",
     "output_type": "stream",
     "text": [
      "D:\\MOVIE\\darkflow\\darkflow-master\\darkflow\\dark\\darknet.py:54: UserWarning: ./cfg/yolov2.cfg not found, use cfg/yolo.cfg instead\n",
      "  cfg_path, FLAGS.model))\n"
     ]
    },
    {
     "name": "stdout",
     "output_type": "stream",
     "text": [
      "Parsing cfg/yolo.cfg\n",
      "Loading bin/yolov2.weights ...\n",
      "Successfully identified 203934260 bytes\n",
      "Finished in 0.20477795600891113s\n",
      "Model has a coco model name, loading coco labels.\n",
      "\n",
      "Building net ...\n",
      "Source | Train? | Layer description                | Output size\n",
      "-------+--------+----------------------------------+---------------\n",
      "       |        | input                            | (?, 608, 608, 3)\n",
      " Load  |  Yep!  | conv 3x3p1_1  +bnorm  leaky      | (?, 608, 608, 32)\n",
      " Load  |  Yep!  | maxp 2x2p0_2                     | (?, 304, 304, 32)\n",
      " Load  |  Yep!  | conv 3x3p1_1  +bnorm  leaky      | (?, 304, 304, 64)\n",
      " Load  |  Yep!  | maxp 2x2p0_2                     | (?, 152, 152, 64)\n",
      " Load  |  Yep!  | conv 3x3p1_1  +bnorm  leaky      | (?, 152, 152, 128)\n",
      " Load  |  Yep!  | conv 1x1p0_1  +bnorm  leaky      | (?, 152, 152, 64)\n",
      " Load  |  Yep!  | conv 3x3p1_1  +bnorm  leaky      | (?, 152, 152, 128)\n",
      " Load  |  Yep!  | maxp 2x2p0_2                     | (?, 76, 76, 128)\n",
      " Load  |  Yep!  | conv 3x3p1_1  +bnorm  leaky      | (?, 76, 76, 256)\n",
      " Load  |  Yep!  | conv 1x1p0_1  +bnorm  leaky      | (?, 76, 76, 128)\n",
      " Load  |  Yep!  | conv 3x3p1_1  +bnorm  leaky      | (?, 76, 76, 256)\n",
      " Load  |  Yep!  | maxp 2x2p0_2                     | (?, 38, 38, 256)\n",
      " Load  |  Yep!  | conv 3x3p1_1  +bnorm  leaky      | (?, 38, 38, 512)\n",
      " Load  |  Yep!  | conv 1x1p0_1  +bnorm  leaky      | (?, 38, 38, 256)\n",
      " Load  |  Yep!  | conv 3x3p1_1  +bnorm  leaky      | (?, 38, 38, 512)\n",
      " Load  |  Yep!  | conv 1x1p0_1  +bnorm  leaky      | (?, 38, 38, 256)\n",
      " Load  |  Yep!  | conv 3x3p1_1  +bnorm  leaky      | (?, 38, 38, 512)\n",
      " Load  |  Yep!  | maxp 2x2p0_2                     | (?, 19, 19, 512)\n",
      " Load  |  Yep!  | conv 3x3p1_1  +bnorm  leaky      | (?, 19, 19, 1024)\n",
      " Load  |  Yep!  | conv 1x1p0_1  +bnorm  leaky      | (?, 19, 19, 512)\n",
      " Load  |  Yep!  | conv 3x3p1_1  +bnorm  leaky      | (?, 19, 19, 1024)\n",
      " Load  |  Yep!  | conv 1x1p0_1  +bnorm  leaky      | (?, 19, 19, 512)\n",
      " Load  |  Yep!  | conv 3x3p1_1  +bnorm  leaky      | (?, 19, 19, 1024)\n",
      " Load  |  Yep!  | conv 3x3p1_1  +bnorm  leaky      | (?, 19, 19, 1024)\n",
      " Load  |  Yep!  | conv 3x3p1_1  +bnorm  leaky      | (?, 19, 19, 1024)\n",
      " Load  |  Yep!  | concat [16]                      | (?, 38, 38, 512)\n",
      " Load  |  Yep!  | conv 1x1p0_1  +bnorm  leaky      | (?, 38, 38, 64)\n",
      " Load  |  Yep!  | local flatten 2x2                | (?, 19, 19, 256)\n",
      " Load  |  Yep!  | concat [27, 24]                  | (?, 19, 19, 1280)\n",
      " Load  |  Yep!  | conv 3x3p1_1  +bnorm  leaky      | (?, 19, 19, 1024)\n",
      " Load  |  Yep!  | conv 1x1p0_1    linear           | (?, 19, 19, 425)\n",
      "-------+--------+----------------------------------+---------------\n",
      "Running entirely on CPU\n",
      "Finished in 60.64918303489685s\n",
      "\n"
     ]
    }
   ],
   "source": [
    "option = {\n",
    "   'model': 'cfg/yolo.cfg',\n",
    "   'load': 'bin/yolov2.weights',\n",
    "   'threshold': 0.3\n",
    "   }\n",
    "\n",
    "tfnet = TFNet(option)"
   ]
  },
  {
   "cell_type": "code",
   "execution_count": 3,
   "metadata": {},
   "outputs": [
    {
     "name": "stdout",
     "output_type": "stream",
     "text": [
      "['frame_0 - Copy.jpg', 'frame_0.jpg', 'frame_1 - Copy.jpg', 'frame_1.jpg', 'frame_10.jpg', 'frame_11.jpg', 'frame_12.jpg', 'frame_13.jpg', 'frame_14.jpg', 'frame_15.jpg', 'frame_16.jpg', 'frame_17.jpg', 'frame_18.jpg', 'frame_19.jpg', 'frame_2 - Copy.jpg', 'frame_2.jpg', 'frame_20.jpg', 'frame_21.jpg', 'frame_22.jpg', 'frame_23.jpg', 'frame_24.jpg', 'frame_25.jpg', 'frame_26.jpg', 'frame_27.jpg', 'frame_28.jpg', 'frame_29.jpg', 'frame_3 - Copy.jpg', 'frame_3.jpg', 'frame_30.jpg', 'frame_31.jpg', 'frame_32.jpg', 'frame_33.jpg', 'frame_34.jpg', 'frame_35.jpg', 'frame_36.jpg', 'frame_37.jpg', 'frame_38.jpg', 'frame_39.jpg', 'frame_4 - Copy.jpg', 'frame_4.jpg', 'frame_40.jpg', 'frame_41.jpg', 'frame_42.jpg', 'frame_43.jpg', 'frame_44.jpg', 'frame_45.jpg', 'frame_46.jpg', 'frame_47.jpg', 'frame_48.jpg', 'frame_49.jpg', 'frame_5.jpg', 'frame_50.jpg', 'frame_51.jpg', 'frame_52.jpg', 'frame_53.jpg', 'frame_54.jpg', 'frame_55.jpg', 'frame_56.jpg', 'frame_57.jpg', 'frame_58.jpg', 'frame_59.jpg', 'frame_6 - Copy.jpg', 'frame_6.jpg', 'frame_60.jpg', 'frame_61.jpg', 'frame_62.jpg', 'frame_63.jpg', 'frame_64.jpg', 'frame_65.jpg', 'frame_66.jpg', 'frame_67.jpg', 'frame_68.jpg', 'frame_69.jpg', 'frame_7 - Copy.jpg', 'frame_7.jpg', 'frame_70.jpg', 'frame_71.jpg', 'frame_72.jpg', 'frame_73.jpg', 'frame_74.jpg', 'frame_75.jpg', 'frame_76.jpg', 'frame_77.jpg', 'frame_78.jpg', 'frame_79.jpg', 'frame_8.jpg', 'frame_80.jpg', 'frame_81.jpg', 'frame_82.jpg', 'frame_83.jpg', 'frame_9.jpg']\n"
     ]
    }
   ],
   "source": [
    "path=r'D:\\MOVIE\\darkflow\\darkflow-master\\task-2'\n",
    "print(os.listdir(path))"
   ]
  },
  {
   "cell_type": "code",
   "execution_count": 4,
   "metadata": {},
   "outputs": [
    {
     "name": "stdout",
     "output_type": "stream",
     "text": [
      "0\n",
      "0\n",
      "1\n",
      "1\n",
      "3\n",
      "0\n",
      "0\n",
      "2\n",
      "1\n",
      "0\n",
      "2\n",
      "2\n",
      "2\n",
      "2\n",
      "0\n",
      "0\n",
      "3\n",
      "4\n",
      "1\n",
      "1\n",
      "1\n",
      "0\n",
      "3\n",
      "4\n",
      "5\n",
      "4\n",
      "0\n",
      "0\n",
      "4\n",
      "5\n",
      "4\n",
      "3\n",
      "4\n",
      "4\n",
      "5\n",
      "3\n",
      "2\n",
      "2\n",
      "0\n",
      "0\n",
      "4\n",
      "2\n",
      "2\n",
      "3\n",
      "2\n",
      "1\n",
      "2\n",
      "2\n",
      "0\n",
      "1\n",
      "0\n",
      "1\n",
      "2\n",
      "1\n",
      "2\n",
      "2\n",
      "1\n",
      "0\n",
      "1\n",
      "1\n",
      "4\n",
      "0\n",
      "0\n",
      "1\n",
      "2\n",
      "1\n",
      "0\n",
      "2\n",
      "2\n",
      "0\n",
      "2\n",
      "1\n",
      "1\n",
      "0\n",
      "0\n",
      "1\n",
      "0\n",
      "2\n",
      "5\n",
      "4\n",
      "1\n",
      "2\n",
      "1\n",
      "1\n",
      "1\n",
      "0\n",
      "0\n",
      "1\n",
      "1\n",
      "0\n",
      "0\n"
     ]
    }
   ],
   "source": [
    "number_people=[]\n",
    "for i in os.listdir(path):\n",
    "    #print(i)\n",
    "    filename=os.path.join(path,i)\n",
    "    #print(filename)\n",
    "    img=cv2.imread(filename)\n",
    "    result=tfnet.return_predict(img)\n",
    "    count=0\n",
    "    for i in result:\n",
    "        c=i['label']\n",
    "        if c == 'person':\n",
    "            count=count+1\n",
    "    print(count)\n",
    "    number_people.append(count)"
   ]
  },
  {
   "cell_type": "code",
   "execution_count": 5,
   "metadata": {},
   "outputs": [
    {
     "data": {
      "text/plain": [
       "[0,\n",
       " 0,\n",
       " 1,\n",
       " 1,\n",
       " 3,\n",
       " 0,\n",
       " 0,\n",
       " 2,\n",
       " 1,\n",
       " 0,\n",
       " 2,\n",
       " 2,\n",
       " 2,\n",
       " 2,\n",
       " 0,\n",
       " 0,\n",
       " 3,\n",
       " 4,\n",
       " 1,\n",
       " 1,\n",
       " 1,\n",
       " 0,\n",
       " 3,\n",
       " 4,\n",
       " 5,\n",
       " 4,\n",
       " 0,\n",
       " 0,\n",
       " 4,\n",
       " 5,\n",
       " 4,\n",
       " 3,\n",
       " 4,\n",
       " 4,\n",
       " 5,\n",
       " 3,\n",
       " 2,\n",
       " 2,\n",
       " 0,\n",
       " 0,\n",
       " 4,\n",
       " 2,\n",
       " 2,\n",
       " 3,\n",
       " 2,\n",
       " 1,\n",
       " 2,\n",
       " 2,\n",
       " 0,\n",
       " 1,\n",
       " 0,\n",
       " 1,\n",
       " 2,\n",
       " 1,\n",
       " 2,\n",
       " 2,\n",
       " 1,\n",
       " 0,\n",
       " 1,\n",
       " 1,\n",
       " 4,\n",
       " 0,\n",
       " 0,\n",
       " 1,\n",
       " 2,\n",
       " 1,\n",
       " 0,\n",
       " 2,\n",
       " 2,\n",
       " 0,\n",
       " 2,\n",
       " 1,\n",
       " 1,\n",
       " 0,\n",
       " 0,\n",
       " 1,\n",
       " 0,\n",
       " 2,\n",
       " 5,\n",
       " 4,\n",
       " 1,\n",
       " 2,\n",
       " 1,\n",
       " 1,\n",
       " 1,\n",
       " 0,\n",
       " 0,\n",
       " 1,\n",
       " 1,\n",
       " 0,\n",
       " 0]"
      ]
     },
     "execution_count": 5,
     "metadata": {},
     "output_type": "execute_result"
    }
   ],
   "source": [
    "number_people"
   ]
  },
  {
   "cell_type": "code",
   "execution_count": 6,
   "metadata": {},
   "outputs": [
    {
     "name": "stdout",
     "output_type": "stream",
     "text": [
      "91\n"
     ]
    },
    {
     "data": {
      "text/plain": [
       "-1"
      ]
     },
     "execution_count": 6,
     "metadata": {},
     "output_type": "execute_result"
    }
   ],
   "source": [
    "#import pytesseract as tess\n",
    "#import os\n",
    "\n",
    "#path=r'D:\\MOVIE\\darkflow\\darkflow-master\\task-2'\n",
    "\n",
    "li=[]\n",
    "tess.pytesseract.tesseract_cmd = r'C:\\Program Files\\Tesseract-OCR\\tesseract.exe'\n",
    "\n",
    "di=os.listdir(path)\n",
    "print(len(di))\n",
    "\n",
    "for i in range(len(di)):\n",
    "    filename=os.path.join(path,di[i])\n",
    "    img=cv2.imread(filename)\n",
    "    crop=img[10:110,1400:1800]\n",
    "\n",
    "    gray = cv2.cvtColor(crop, cv2.COLOR_BGR2GRAY)\n",
    "\n",
    "    ret, thresh = cv2.threshold(gray, 240, 255, cv2.THRESH_BINARY_INV)\n",
    "    #img=cv2.cvtColor(img,cv2.COLOR_BGR2RGB)\n",
    "    ref=cv2.medianBlur(thresh,5)\n",
    "    #print(img.shape)\n",
    "\n",
    "    #cv2.imshow(\"image1\", thresh)\n",
    "\n",
    "\n",
    "    result=tess.image_to_string(ref)\n",
    "    #print(result)\n",
    "    li.append(result)\n",
    "    #cv2.imshow('image',crop)\n",
    "cv2.waitKey(0)\n"
   ]
  },
  {
   "cell_type": "code",
   "execution_count": 7,
   "metadata": {},
   "outputs": [
    {
     "data": {
      "text/plain": [
       "['01 00°04 RM',\n",
       " '01 00°04 RM',\n",
       " '01-01 “08 PM',\n",
       " '01-01 “08 PM',\n",
       " '01.10.48 PM',\n",
       " '01:11:52 PM',\n",
       " '01:12:56 PM',\n",
       " '01:14:06 PM',\n",
       " '01:15:10 PM',\n",
       " '01:16:14 PM',\n",
       " '01:17:19 PM',\n",
       " '01:18:24 PM',\n",
       " '01:19:33 PM',\n",
       " '01:20:49 PM',\n",
       " '01 02°12 PM',\n",
       " '01 02°12 PM',\n",
       " '01 :21°53 PM',\n",
       " '01:22:58 PM',\n",
       " '01:24:09 PM',\n",
       " '01:25:46 PM',\n",
       " '01:26:51 PM',\n",
       " '01 28:36 PM',\n",
       " '01:29:42 PM',\n",
       " '01:30:46 PM',\n",
       " '01-31-50 PM',\n",
       " '01 32:54 PM',\n",
       " '01:03:17 PM',\n",
       " '01:03:17 PM',\n",
       " '01:33:59 PM',\n",
       " '01:35:03 PM',\n",
       " '01-3607 PM',\n",
       " '01 37712 RM',\n",
       " '01 38°16 RM',\n",
       " '01. 39°20 RM',\n",
       " '01: 40°24 RM',\n",
       " '01 417-29 PM',\n",
       " '01 42733 PM',\n",
       " '0143739 PM',\n",
       " '01:04:21 PM',\n",
       " '01:04:21 PM',\n",
       " '01 44743 PM',\n",
       " '01 45748 RM',\n",
       " '01 46752 RM',\n",
       " '01 47756 RM',\n",
       " '01:49°01 PRM',\n",
       " '01 50°05 RM',\n",
       " '01:51 °09 RM',\n",
       " '0152713 RM',\n",
       " '01 59724 PM',\n",
       " '01 54739 RM',\n",
       " '01:05:25 PM',\n",
       " '01 55743 RM',\n",
       " '01:°56°58 RM',\n",
       " '01 58702 RM',\n",
       " '01 59706 RM',\n",
       " '02:00°11 RM',\n",
       " '02 01715 PM',\n",
       " '02 02719 PM',\n",
       " '02 03°24 RM',\n",
       " '02 04728 PRM',\n",
       " '02: 05732 PM',\n",
       " '01:06:30 PM',\n",
       " '01:06:30 PM',\n",
       " '02 06°36 RM',\n",
       " '02:07°41 PM',\n",
       " '02 08745 RM',\n",
       " '02 09°49 PM',\n",
       " '02 10754 RM',\n",
       " '02 11758 RM',\n",
       " '02 13°02 RM',\n",
       " '02:14°15 PM',\n",
       " '02:15:20 PM',\n",
       " '02:16°24 PM',\n",
       " '01:07:34 PM',\n",
       " '01:07:34 PM',\n",
       " '02:17°31 PM',\n",
       " '02:18:35 PM',\n",
       " '02:19:39 PM',\n",
       " \"02 :20'°43 PM\",\n",
       " '02:21 °48 PM',\n",
       " '02 22°52 PM',\n",
       " '02 29756 RM.',\n",
       " '0225715 PM',\n",
       " '02 26719 PRM.',\n",
       " '02 27724 PM',\n",
       " '01 08:38 PM',\n",
       " '02 28°36 RM.',\n",
       " '02 30°23 RM',\n",
       " '02 31°27 PM',\n",
       " '02 32°33 PRM',\n",
       " '01:09:42 PM']"
      ]
     },
     "execution_count": 7,
     "metadata": {},
     "output_type": "execute_result"
    }
   ],
   "source": [
    "li"
   ]
  },
  {
   "cell_type": "code",
   "execution_count": 8,
   "metadata": {},
   "outputs": [
    {
     "data": {
      "text/plain": [
       "91"
      ]
     },
     "execution_count": 8,
     "metadata": {},
     "output_type": "execute_result"
    }
   ],
   "source": [
    "len(li)"
   ]
  },
  {
   "cell_type": "code",
   "execution_count": 9,
   "metadata": {},
   "outputs": [],
   "source": [
    "import pandas as pd"
   ]
  },
  {
   "cell_type": "code",
   "execution_count": 49,
   "metadata": {},
   "outputs": [
    {
     "data": {
      "text/html": [
       "<div>\n",
       "<style scoped>\n",
       "    .dataframe tbody tr th:only-of-type {\n",
       "        vertical-align: middle;\n",
       "    }\n",
       "\n",
       "    .dataframe tbody tr th {\n",
       "        vertical-align: top;\n",
       "    }\n",
       "\n",
       "    .dataframe thead th {\n",
       "        text-align: right;\n",
       "    }\n",
       "</style>\n",
       "<table border=\"1\" class=\"dataframe\">\n",
       "  <thead>\n",
       "    <tr style=\"text-align: right;\">\n",
       "      <th></th>\n",
       "      <th>TIME</th>\n",
       "      <th>number of people</th>\n",
       "    </tr>\n",
       "  </thead>\n",
       "  <tbody>\n",
       "    <tr>\n",
       "      <th>0</th>\n",
       "      <td>01 00°04 RM</td>\n",
       "      <td>0</td>\n",
       "    </tr>\n",
       "    <tr>\n",
       "      <th>1</th>\n",
       "      <td>01 00°04 RM</td>\n",
       "      <td>0</td>\n",
       "    </tr>\n",
       "    <tr>\n",
       "      <th>2</th>\n",
       "      <td>01-01 “08 PM</td>\n",
       "      <td>1</td>\n",
       "    </tr>\n",
       "    <tr>\n",
       "      <th>3</th>\n",
       "      <td>01-01 “08 PM</td>\n",
       "      <td>1</td>\n",
       "    </tr>\n",
       "    <tr>\n",
       "      <th>4</th>\n",
       "      <td>01.10.48 PM</td>\n",
       "      <td>3</td>\n",
       "    </tr>\n",
       "    <tr>\n",
       "      <th>5</th>\n",
       "      <td>01:11:52 PM</td>\n",
       "      <td>0</td>\n",
       "    </tr>\n",
       "    <tr>\n",
       "      <th>6</th>\n",
       "      <td>01:12:56 PM</td>\n",
       "      <td>0</td>\n",
       "    </tr>\n",
       "    <tr>\n",
       "      <th>7</th>\n",
       "      <td>01:14:06 PM</td>\n",
       "      <td>2</td>\n",
       "    </tr>\n",
       "    <tr>\n",
       "      <th>8</th>\n",
       "      <td>01:15:10 PM</td>\n",
       "      <td>1</td>\n",
       "    </tr>\n",
       "    <tr>\n",
       "      <th>9</th>\n",
       "      <td>01:16:14 PM</td>\n",
       "      <td>0</td>\n",
       "    </tr>\n",
       "  </tbody>\n",
       "</table>\n",
       "</div>"
      ],
      "text/plain": [
       "           TIME  number of people\n",
       "0   01 00°04 RM                 0\n",
       "1   01 00°04 RM                 0\n",
       "2  01-01 “08 PM                 1\n",
       "3  01-01 “08 PM                 1\n",
       "4   01.10.48 PM                 3\n",
       "5   01:11:52 PM                 0\n",
       "6   01:12:56 PM                 0\n",
       "7   01:14:06 PM                 2\n",
       "8   01:15:10 PM                 1\n",
       "9   01:16:14 PM                 0"
      ]
     },
     "execution_count": 49,
     "metadata": {},
     "output_type": "execute_result"
    }
   ],
   "source": [
    "df=pd.DataFrame(li,columns=['TIME'])\n",
    "df['number of people']=pd.DataFrame(number_people)\n",
    "df=df.head(10)\n",
    "df"
   ]
  },
  {
   "cell_type": "code",
   "execution_count": 45,
   "metadata": {},
   "outputs": [
    {
     "data": {
      "text/plain": [
       "<matplotlib.collections.PathCollection at 0x1e99048e128>"
      ]
     },
     "execution_count": 45,
     "metadata": {},
     "output_type": "execute_result"
    },
    {
     "data": {
      "image/png": "[encoded data removed]",
      "text/plain": [
       "<Figure size 432x288 with 1 Axes>"
      ]
     },
     "metadata": {
      "needs_background": "light"
     },
     "output_type": "display_data"
    }
   ],
   "source": [
    "plt.xlabel('TIME')\n",
    "plt.ylabel('NUMBER OF PEOPLE')\n",
    "plt.scatter(df.TIME,df['number of people'],color='red')"
   ]
  },
  {
   "cell_type": "code",
   "execution_count": 48,
   "metadata": {},
   "outputs": [
    {
     "data": {
      "text/plain": [
       "<matplotlib.collections.PathCollection at 0x1e9904d8748>"
      ]
     },
     "execution_count": 48,
     "metadata": {},
     "output_type": "execute_result"
    },
    {
     "data": {
      "image/png": "[encoded data removed]",
      "text/plain": [
       "<Figure size 432x288 with 1 Axes>"
      ]
     },
     "metadata": {
      "needs_background": "light"
     },
     "output_type": "display_data"
    }
   ],
   "source": [
    "df=pd.DataFrame(li,columns=['TIME'])\n",
    "df['number of people']=pd.DataFrame(number_people)\n",
    "df=df.head(5)\n",
    "\n",
    "plt.xlabel('TIME')\n",
    "plt.ylabel('NUMBER OF PEOPLE')\n",
    "plt.scatter(df.TIME,df['number of people'],color='red')\n"
   ]
  }
 ],
 "metadata": {
  "kernelspec": {
   "display_name": "Python 3",
   "language": "python",
   "name": "python3"
  },
  "language_info": {
   "codemirror_mode": {
    "name": "ipython",
    "version": 3
   },
   "file_extension": ".py",
   "mimetype": "text/x-python",
   "name": "python",
   "nbconvert_exporter": "python",
   "pygments_lexer": "ipython3",
   "version": "3.6.3"
  }
 },
 "nbformat": 4,
 "nbformat_minor": 4
}
